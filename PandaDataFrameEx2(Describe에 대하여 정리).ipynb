{
 "cells": [
  {
   "cell_type": "code",
   "execution_count": null,
   "metadata": {},
   "outputs": [],
   "source": [
    "table_data3={'봄':[256.5,264.3,215.9,223.2,312.8],\n",
    "            '여름':[770.6,567.5,599.8,387.1,446.2],\n",
    "            '가을':[363.5,231.2,293.1,247.7,381.6],\n",
    "            '겨울':[139.3,59.9,76.9,109.1,108.1]}"
   ]
  }
 ],
 "metadata": {
  "kernelspec": {
   "display_name": "Python 3",
   "language": "python",
   "name": "python3"
  },
  "language_info": {
   "codemirror_mode": {
    "name": "ipython",
    "version": 3
   },
   "file_extension": ".py",
   "mimetype": "text/x-python",
   "name": "python",
   "nbconvert_exporter": "python",
   "pygments_lexer": "ipython3",
   "version": "3.7.3"
  }
 },
 "nbformat": 4,
 "nbformat_minor": 2
}
