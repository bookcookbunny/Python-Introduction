{
 "cells": [
  {
   "cell_type": "code",
   "execution_count": 2,
   "metadata": {},
   "outputs": [],
   "source": [
    "import pandas as pd"
   ]
  },
  {
   "cell_type": "code",
   "execution_count": 8,
   "metadata": {},
   "outputs": [],
   "source": [
    "#help(pd.ExcelWriter) # 이 두 개는 외우기\n",
    "#help(pd.read_excel)"
   ]
  },
  {
   "cell_type": "code",
   "execution_count": 14,
   "metadata": {},
   "outputs": [],
   "source": [
    "df1 = pd.read_excel(\"학생시험성적.xlsx\")"
   ]
  },
  {
   "cell_type": "code",
   "execution_count": 17,
   "metadata": {},
   "outputs": [],
   "source": [
    "df2 = pd.read_excel(\"학생시험성적.xlsx\", sheet_name = \"2차시험\", index_col = 0)"
   ]
  },
  {
   "cell_type": "code",
   "execution_count": 18,
   "metadata": {},
   "outputs": [
    {
     "data": {
      "text/plain": [
       "array([['A', 80, 90, 85, 85.0],\n",
       "       ['B', 90, 95, 95, 93.33333333333333],\n",
       "       ['C', 95, 70, 75, 80.0],\n",
       "       ['D', 70, 85, 80, 78.33333333333333],\n",
       "       ['E', 75, 90, 85, 83.33333333333333]], dtype=object)"
      ]
     },
     "execution_count": 18,
     "metadata": {},
     "output_type": "execute_result"
    }
   ],
   "source": [
    "df1.values"
   ]
  },
  {
   "cell_type": "code",
   "execution_count": 19,
   "metadata": {},
   "outputs": [
    {
     "data": {
      "text/html": [
       "<div>\n",
       "<style scoped>\n",
       "    .dataframe tbody tr th:only-of-type {\n",
       "        vertical-align: middle;\n",
       "    }\n",
       "\n",
       "    .dataframe tbody tr th {\n",
       "        vertical-align: top;\n",
       "    }\n",
       "\n",
       "    .dataframe thead th {\n",
       "        text-align: right;\n",
       "    }\n",
       "</style>\n",
       "<table border=\"1\" class=\"dataframe\">\n",
       "  <thead>\n",
       "    <tr style=\"text-align: right;\">\n",
       "      <th></th>\n",
       "      <th>과학</th>\n",
       "      <th>사회</th>\n",
       "      <th>역사</th>\n",
       "      <th>평균</th>\n",
       "    </tr>\n",
       "    <tr>\n",
       "      <th>학생</th>\n",
       "      <th></th>\n",
       "      <th></th>\n",
       "      <th></th>\n",
       "      <th></th>\n",
       "    </tr>\n",
       "  </thead>\n",
       "  <tbody>\n",
       "    <tr>\n",
       "      <th>A</th>\n",
       "      <td>90</td>\n",
       "      <td>95</td>\n",
       "      <td>85</td>\n",
       "      <td>90.000000</td>\n",
       "    </tr>\n",
       "    <tr>\n",
       "      <th>B</th>\n",
       "      <td>85</td>\n",
       "      <td>90</td>\n",
       "      <td>80</td>\n",
       "      <td>85.000000</td>\n",
       "    </tr>\n",
       "    <tr>\n",
       "      <th>C</th>\n",
       "      <td>70</td>\n",
       "      <td>80</td>\n",
       "      <td>75</td>\n",
       "      <td>75.000000</td>\n",
       "    </tr>\n",
       "    <tr>\n",
       "      <th>D</th>\n",
       "      <td>75</td>\n",
       "      <td>90</td>\n",
       "      <td>100</td>\n",
       "      <td>88.333333</td>\n",
       "    </tr>\n",
       "    <tr>\n",
       "      <th>E</th>\n",
       "      <td>90</td>\n",
       "      <td>80</td>\n",
       "      <td>90</td>\n",
       "      <td>86.666667</td>\n",
       "    </tr>\n",
       "  </tbody>\n",
       "</table>\n",
       "</div>"
      ],
      "text/plain": [
       "    과학  사회   역사         평균\n",
       "학생                        \n",
       "A   90  95   85  90.000000\n",
       "B   85  90   80  85.000000\n",
       "C   70  80   75  75.000000\n",
       "D   75  90  100  88.333333\n",
       "E   90  80   90  86.666667"
      ]
     },
     "execution_count": 19,
     "metadata": {},
     "output_type": "execute_result"
    }
   ],
   "source": [
    "df2"
   ]
  },
  {
   "cell_type": "code",
   "execution_count": 20,
   "metadata": {},
   "outputs": [
    {
     "data": {
      "text/html": [
       "<div>\n",
       "<style scoped>\n",
       "    .dataframe tbody tr th:only-of-type {\n",
       "        vertical-align: middle;\n",
       "    }\n",
       "\n",
       "    .dataframe tbody tr th {\n",
       "        vertical-align: top;\n",
       "    }\n",
       "\n",
       "    .dataframe thead th {\n",
       "        text-align: right;\n",
       "    }\n",
       "</style>\n",
       "<table border=\"1\" class=\"dataframe\">\n",
       "  <thead>\n",
       "    <tr style=\"text-align: right;\">\n",
       "      <th></th>\n",
       "      <th>학생</th>\n",
       "      <th>국어</th>\n",
       "      <th>영어</th>\n",
       "      <th>수학</th>\n",
       "    </tr>\n",
       "  </thead>\n",
       "  <tbody>\n",
       "    <tr>\n",
       "      <th>0</th>\n",
       "      <td>A</td>\n",
       "      <td>80</td>\n",
       "      <td>90</td>\n",
       "      <td>85</td>\n",
       "    </tr>\n",
       "    <tr>\n",
       "      <th>1</th>\n",
       "      <td>B</td>\n",
       "      <td>90</td>\n",
       "      <td>95</td>\n",
       "      <td>95</td>\n",
       "    </tr>\n",
       "    <tr>\n",
       "      <th>2</th>\n",
       "      <td>C</td>\n",
       "      <td>95</td>\n",
       "      <td>70</td>\n",
       "      <td>75</td>\n",
       "    </tr>\n",
       "    <tr>\n",
       "      <th>3</th>\n",
       "      <td>D</td>\n",
       "      <td>70</td>\n",
       "      <td>85</td>\n",
       "      <td>80</td>\n",
       "    </tr>\n",
       "    <tr>\n",
       "      <th>4</th>\n",
       "      <td>E</td>\n",
       "      <td>75</td>\n",
       "      <td>90</td>\n",
       "      <td>85</td>\n",
       "    </tr>\n",
       "    <tr>\n",
       "      <th>5</th>\n",
       "      <td>F</td>\n",
       "      <td>85</td>\n",
       "      <td>95</td>\n",
       "      <td>100</td>\n",
       "    </tr>\n",
       "  </tbody>\n",
       "</table>\n",
       "</div>"
      ],
      "text/plain": [
       "  학생  국어  영어   수학\n",
       "0  A  80  90   85\n",
       "1  B  90  95   95\n",
       "2  C  95  70   75\n",
       "3  D  70  85   80\n",
       "4  E  75  90   85\n",
       "5  F  85  95  100"
      ]
     },
     "execution_count": 20,
     "metadata": {},
     "output_type": "execute_result"
    }
   ],
   "source": [
    "import pandas as pd\n",
    "\n",
    "excel_exam_data1 = {'학생': ['A', 'B', 'C', 'D', 'E', 'F'],\n",
    "                    '국어': [80, 90, 95, 70, 75, 85],\n",
    "                    '영어': [90, 95, 70, 85, 90, 95],\n",
    "                    '수학': [85, 95, 75, 80, 85, 100]}\n",
    "df1 = pd.DataFrame(excel_exam_data1,columns=['학생','국어','영어','수학'] )\n",
    "df1"
   ]
  },
  {
   "cell_type": "code",
   "execution_count": 26,
   "metadata": {},
   "outputs": [
    {
     "data": {
      "text/plain": [
       "<pandas.io.excel._XlsxWriter at 0x1e18e371b70>"
      ]
     },
     "execution_count": 26,
     "metadata": {},
     "output_type": "execute_result"
    }
   ],
   "source": [
    "pd.ExcelWriter(\"학생시험성적2.xlsx\", engine = 'xlsxwriter') # 1단계: 엑셀 객체 생성"
   ]
  },
  {
   "cell_type": "code",
   "execution_count": 25,
   "metadata": {},
   "outputs": [],
   "source": [
    "ew = pd.ExcelWriter(\"학생시험성적2.xlsx\", engine = 'xlsxwriter')"
   ]
  },
  {
   "cell_type": "code",
   "execution_count": 28,
   "metadata": {},
   "outputs": [],
   "source": [
    "df1.to_excel(ew, index = False ) # 2단계: 엑셀 객체로 데이터 프레임을 만듦"
   ]
  },
  {
   "cell_type": "code",
   "execution_count": 31,
   "metadata": {},
   "outputs": [],
   "source": [
    "ew.save() # 3단계: 엑셀 파일로 저장 -끗-"
   ]
  },
  {
   "cell_type": "code",
   "execution_count": 35,
   "metadata": {},
   "outputs": [],
   "source": [
    "ew2 = pd.ExcelWriter(\"학생시험성적3.xlsx\", engine = 'xlsxwriter') # 1단계: 엑셀 객체 생성\n",
    "df1.to_excel(ew2, index = False, sheet_name = \"중간고사\" ) # 2단계: 엑셀 객체로 데이터 프레임을 만듦\n",
    "ew2.save() # 3단계: 엑셀 파일로 저장 -끗-"
   ]
  },
  {
   "cell_type": "code",
   "execution_count": 36,
   "metadata": {},
   "outputs": [
    {
     "data": {
      "text/html": [
       "<div>\n",
       "<style scoped>\n",
       "    .dataframe tbody tr th:only-of-type {\n",
       "        vertical-align: middle;\n",
       "    }\n",
       "\n",
       "    .dataframe tbody tr th {\n",
       "        vertical-align: top;\n",
       "    }\n",
       "\n",
       "    .dataframe thead th {\n",
       "        text-align: right;\n",
       "    }\n",
       "</style>\n",
       "<table border=\"1\" class=\"dataframe\">\n",
       "  <thead>\n",
       "    <tr style=\"text-align: right;\">\n",
       "      <th></th>\n",
       "      <th>학생</th>\n",
       "      <th>국어</th>\n",
       "      <th>영어</th>\n",
       "      <th>수학</th>\n",
       "    </tr>\n",
       "  </thead>\n",
       "  <tbody>\n",
       "    <tr>\n",
       "      <th>0</th>\n",
       "      <td>A</td>\n",
       "      <td>85</td>\n",
       "      <td>80</td>\n",
       "      <td>90</td>\n",
       "    </tr>\n",
       "    <tr>\n",
       "      <th>1</th>\n",
       "      <td>B</td>\n",
       "      <td>95</td>\n",
       "      <td>90</td>\n",
       "      <td>95</td>\n",
       "    </tr>\n",
       "    <tr>\n",
       "      <th>2</th>\n",
       "      <td>C</td>\n",
       "      <td>75</td>\n",
       "      <td>95</td>\n",
       "      <td>70</td>\n",
       "    </tr>\n",
       "    <tr>\n",
       "      <th>3</th>\n",
       "      <td>D</td>\n",
       "      <td>80</td>\n",
       "      <td>70</td>\n",
       "      <td>85</td>\n",
       "    </tr>\n",
       "    <tr>\n",
       "      <th>4</th>\n",
       "      <td>E</td>\n",
       "      <td>85</td>\n",
       "      <td>75</td>\n",
       "      <td>90</td>\n",
       "    </tr>\n",
       "    <tr>\n",
       "      <th>5</th>\n",
       "      <td>F</td>\n",
       "      <td>100</td>\n",
       "      <td>85</td>\n",
       "      <td>95</td>\n",
       "    </tr>\n",
       "  </tbody>\n",
       "</table>\n",
       "</div>"
      ],
      "text/plain": [
       "  학생   국어  영어  수학\n",
       "0  A   85  80  90\n",
       "1  B   95  90  95\n",
       "2  C   75  95  70\n",
       "3  D   80  70  85\n",
       "4  E   85  75  90\n",
       "5  F  100  85  95"
      ]
     },
     "execution_count": 36,
     "metadata": {},
     "output_type": "execute_result"
    }
   ],
   "source": [
    "excel_exam_data2 = {'학생': ['A', 'B', 'C', 'D', 'E', 'F'],\n",
    "                    '국어': [85, 95, 75, 80, 85, 100],\n",
    "                    '영어': [80, 90, 95, 70, 75, 85],\n",
    "                    '수학': [90, 95, 70, 85, 90, 95]}\n",
    "df2 = pd.DataFrame(excel_exam_data2,columns=['학생','국어','영어','수학'] )\n",
    "df2"
   ]
  },
  {
   "cell_type": "code",
   "execution_count": 37,
   "metadata": {},
   "outputs": [
    {
     "name": "stdout",
     "output_type": "stream",
     "text": [
      "  학생  국어  영어   수학\n",
      "0  A  80  90   85\n",
      "1  B  90  95   95\n",
      "2  C  95  70   75\n",
      "3  D  70  85   80\n",
      "4  E  75  90   85\n",
      "5  F  85  95  100\n",
      "  학생   국어  영어  수학\n",
      "0  A   85  80  90\n",
      "1  B   95  90  95\n",
      "2  C   75  95  70\n",
      "3  D   80  70  85\n",
      "4  E   85  75  90\n",
      "5  F  100  85  95\n"
     ]
    }
   ],
   "source": [
    "print(df1)\n",
    "print(df2)"
   ]
  },
  {
   "cell_type": "code",
   "execution_count": 38,
   "metadata": {},
   "outputs": [],
   "source": [
    "ew3 = pd.ExcelWriter(\"학생시험성적4.xlsx\", engine = \"xlsxwriter\")"
   ]
  },
  {
   "cell_type": "code",
   "execution_count": 39,
   "metadata": {},
   "outputs": [],
   "source": [
    "df1.to_excel(ew3, index = False, sheet_name = \"중간고사\")\n",
    "df2.to_excel(ew3, index = False, sheet_name = \"기말고사\")\n",
    "ew3.save()"
   ]
  },
  {
   "cell_type": "code",
   "execution_count": 42,
   "metadata": {},
   "outputs": [],
   "source": [
    "#엑셀 파일 여러 개 하나로 통합하는 방법"
   ]
  },
  {
   "cell_type": "code",
   "execution_count": 66,
   "metadata": {},
   "outputs": [],
   "source": [
    "ex_data = ['담당자별_판매량_Andy사원.xlsx', '담당자별_판매량_Becky사원.xlsx', '담당자별_판매량_Chris사원.xlsx']"
   ]
  },
  {
   "cell_type": "code",
   "execution_count": 67,
   "metadata": {},
   "outputs": [
    {
     "data": {
      "text/plain": [
       "['담당자별_판매량_Andy사원.xlsx', '담당자별_판매량_Becky사원.xlsx', '담당자별_판매량_Chris사원.xlsx']"
      ]
     },
     "execution_count": 67,
     "metadata": {},
     "output_type": "execute_result"
    }
   ],
   "source": [
    "ex_data"
   ]
  },
  {
   "cell_type": "code",
   "execution_count": 74,
   "metadata": {},
   "outputs": [],
   "source": [
    "import pandas as pd"
   ]
  },
  {
   "cell_type": "code",
   "execution_count": 75,
   "metadata": {},
   "outputs": [],
   "source": [
    "df_tot = pd.DataFrame([]) # 데이터 초기화를 위해 넣어준 명령문"
   ]
  },
  {
   "cell_type": "code",
   "execution_count": 76,
   "metadata": {},
   "outputs": [],
   "source": [
    "for i in ex_data:\n",
    "    df = pd.read_excel(i)\n",
    "    df_tot = df_tot.append(df, ignore_index = True)"
   ]
  },
  {
   "cell_type": "code",
   "execution_count": 77,
   "metadata": {},
   "outputs": [
    {
     "data": {
      "text/html": [
       "<div>\n",
       "<style scoped>\n",
       "    .dataframe tbody tr th:only-of-type {\n",
       "        vertical-align: middle;\n",
       "    }\n",
       "\n",
       "    .dataframe tbody tr th {\n",
       "        vertical-align: top;\n",
       "    }\n",
       "\n",
       "    .dataframe thead th {\n",
       "        text-align: right;\n",
       "    }\n",
       "</style>\n",
       "<table border=\"1\" class=\"dataframe\">\n",
       "  <thead>\n",
       "    <tr style=\"text-align: right;\">\n",
       "      <th></th>\n",
       "      <th>제품명</th>\n",
       "      <th>담당자</th>\n",
       "      <th>지역</th>\n",
       "      <th>1분기</th>\n",
       "      <th>2분기</th>\n",
       "      <th>3분기</th>\n",
       "      <th>4분기</th>\n",
       "    </tr>\n",
       "  </thead>\n",
       "  <tbody>\n",
       "    <tr>\n",
       "      <th>0</th>\n",
       "      <td>시계</td>\n",
       "      <td>A</td>\n",
       "      <td>가</td>\n",
       "      <td>198</td>\n",
       "      <td>123</td>\n",
       "      <td>120</td>\n",
       "      <td>137</td>\n",
       "    </tr>\n",
       "    <tr>\n",
       "      <th>1</th>\n",
       "      <td>구두</td>\n",
       "      <td>A</td>\n",
       "      <td>가</td>\n",
       "      <td>273</td>\n",
       "      <td>241</td>\n",
       "      <td>296</td>\n",
       "      <td>217</td>\n",
       "    </tr>\n",
       "    <tr>\n",
       "      <th>2</th>\n",
       "      <td>핸드백</td>\n",
       "      <td>A</td>\n",
       "      <td>가</td>\n",
       "      <td>385</td>\n",
       "      <td>316</td>\n",
       "      <td>355</td>\n",
       "      <td>331</td>\n",
       "    </tr>\n",
       "    <tr>\n",
       "      <th>3</th>\n",
       "      <td>시계</td>\n",
       "      <td>B</td>\n",
       "      <td>나</td>\n",
       "      <td>154</td>\n",
       "      <td>108</td>\n",
       "      <td>155</td>\n",
       "      <td>114</td>\n",
       "    </tr>\n",
       "    <tr>\n",
       "      <th>4</th>\n",
       "      <td>구두</td>\n",
       "      <td>B</td>\n",
       "      <td>나</td>\n",
       "      <td>200</td>\n",
       "      <td>223</td>\n",
       "      <td>213</td>\n",
       "      <td>202</td>\n",
       "    </tr>\n",
       "    <tr>\n",
       "      <th>5</th>\n",
       "      <td>핸드백</td>\n",
       "      <td>B</td>\n",
       "      <td>나</td>\n",
       "      <td>350</td>\n",
       "      <td>340</td>\n",
       "      <td>377</td>\n",
       "      <td>392</td>\n",
       "    </tr>\n",
       "    <tr>\n",
       "      <th>6</th>\n",
       "      <td>시계</td>\n",
       "      <td>C</td>\n",
       "      <td>다</td>\n",
       "      <td>168</td>\n",
       "      <td>102</td>\n",
       "      <td>149</td>\n",
       "      <td>174</td>\n",
       "    </tr>\n",
       "    <tr>\n",
       "      <th>7</th>\n",
       "      <td>구두</td>\n",
       "      <td>C</td>\n",
       "      <td>다</td>\n",
       "      <td>231</td>\n",
       "      <td>279</td>\n",
       "      <td>277</td>\n",
       "      <td>292</td>\n",
       "    </tr>\n",
       "    <tr>\n",
       "      <th>8</th>\n",
       "      <td>핸드백</td>\n",
       "      <td>C</td>\n",
       "      <td>다</td>\n",
       "      <td>365</td>\n",
       "      <td>383</td>\n",
       "      <td>308</td>\n",
       "      <td>323</td>\n",
       "    </tr>\n",
       "  </tbody>\n",
       "</table>\n",
       "</div>"
      ],
      "text/plain": [
       "   제품명 담당자 지역  1분기  2분기  3분기  4분기\n",
       "0   시계   A  가  198  123  120  137\n",
       "1   구두   A  가  273  241  296  217\n",
       "2  핸드백   A  가  385  316  355  331\n",
       "3   시계   B  나  154  108  155  114\n",
       "4   구두   B  나  200  223  213  202\n",
       "5  핸드백   B  나  350  340  377  392\n",
       "6   시계   C  다  168  102  149  174\n",
       "7   구두   C  다  231  279  277  292\n",
       "8  핸드백   C  다  365  383  308  323"
      ]
     },
     "execution_count": 77,
     "metadata": {},
     "output_type": "execute_result"
    }
   ],
   "source": [
    "df_tot"
   ]
  },
  {
   "cell_type": "code",
   "execution_count": 78,
   "metadata": {},
   "outputs": [],
   "source": [
    "import glob"
   ]
  },
  {
   "cell_type": "code",
   "execution_count": 79,
   "metadata": {},
   "outputs": [],
   "source": [
    "# help(glob)"
   ]
  },
  {
   "cell_type": "code",
   "execution_count": 80,
   "metadata": {},
   "outputs": [
    {
     "data": {
      "text/plain": [
       "['Chapter_11_NumPy_pandas.ipynb',\n",
       " 'Chapter_12_matplotlib.ipynb',\n",
       " 'Chapter_13_Working_with_excel.ipynb',\n",
       " 'PandaDataFrameEx2(Describe에 대하여 정리).ipynb',\n",
       " 'ReadWithEx.ipynb',\n",
       " 'Untitled.ipynb',\n",
       " 'Visualization Ex2.ipynb',\n",
       " 'Visualization Ex6.ipynb',\n",
       " 'Visualization Ex8.ipynb',\n",
       " 'Visualization.ipynb',\n",
       " 'WorkingWithExcel.ipynb']"
      ]
     },
     "execution_count": 80,
     "metadata": {},
     "output_type": "execute_result"
    }
   ],
   "source": [
    "glob.glob('*.ipynb') # 이 코드 외워둘 것"
   ]
  },
  {
   "cell_type": "code",
   "execution_count": 81,
   "metadata": {},
   "outputs": [
    {
     "data": {
      "text/plain": [
       "['담당자별_판매량_Andy사원.xlsx', '담당자별_판매량_Becky사원.xlsx', '담당자별_판매량_Chris사원.xlsx']"
      ]
     },
     "execution_count": 81,
     "metadata": {},
     "output_type": "execute_result"
    }
   ],
   "source": [
    "glob.glob('담당자별*.xlsx')"
   ]
  },
  {
   "cell_type": "code",
   "execution_count": 85,
   "metadata": {},
   "outputs": [],
   "source": [
    "import glob\n",
    "ex_File = glob.glob('담당자별*.xlsx')\n",
    "df_tot = pd.DataFrame([])\n",
    "for i in ex_File:\n",
    "    df = pd.read_excel(i)\n",
    "    df_tot = df_tot.append(df, ignore_index = True)\n",
    "    \n",
    "    \n",
    "ex_tot_file = pd.ExcelWriter(\"담당자별통합.xlsx\", engine = \"xlsxwriter\")\n",
    "df_tot.to_excel(ex_tot_file, index = False, sheet_name = \"담당자별통합\")\n",
    "ex_tot_file.save()"
   ]
  },
  {
   "cell_type": "code",
   "execution_count": 88,
   "metadata": {},
   "outputs": [],
   "source": [
    "df = pd.read_excel('담당자별_판매량_Andy사원.xlsx')"
   ]
  },
  {
   "cell_type": "code",
   "execution_count": 90,
   "metadata": {},
   "outputs": [
    {
     "data": {
      "text/html": [
       "<div>\n",
       "<style scoped>\n",
       "    .dataframe tbody tr th:only-of-type {\n",
       "        vertical-align: middle;\n",
       "    }\n",
       "\n",
       "    .dataframe tbody tr th {\n",
       "        vertical-align: top;\n",
       "    }\n",
       "\n",
       "    .dataframe thead th {\n",
       "        text-align: right;\n",
       "    }\n",
       "</style>\n",
       "<table border=\"1\" class=\"dataframe\">\n",
       "  <thead>\n",
       "    <tr style=\"text-align: right;\">\n",
       "      <th></th>\n",
       "      <th>제품명</th>\n",
       "      <th>담당자</th>\n",
       "      <th>지역</th>\n",
       "      <th>1분기</th>\n",
       "      <th>2분기</th>\n",
       "      <th>3분기</th>\n",
       "      <th>4분기</th>\n",
       "    </tr>\n",
       "  </thead>\n",
       "  <tbody>\n",
       "    <tr>\n",
       "      <th>0</th>\n",
       "      <td>시계</td>\n",
       "      <td>A</td>\n",
       "      <td>가</td>\n",
       "      <td>198</td>\n",
       "      <td>123</td>\n",
       "      <td>120</td>\n",
       "      <td>137</td>\n",
       "    </tr>\n",
       "    <tr>\n",
       "      <th>1</th>\n",
       "      <td>구두</td>\n",
       "      <td>A</td>\n",
       "      <td>가</td>\n",
       "      <td>273</td>\n",
       "      <td>241</td>\n",
       "      <td>296</td>\n",
       "      <td>217</td>\n",
       "    </tr>\n",
       "    <tr>\n",
       "      <th>2</th>\n",
       "      <td>핸드백</td>\n",
       "      <td>A</td>\n",
       "      <td>가</td>\n",
       "      <td>385</td>\n",
       "      <td>316</td>\n",
       "      <td>355</td>\n",
       "      <td>0</td>\n",
       "    </tr>\n",
       "  </tbody>\n",
       "</table>\n",
       "</div>"
      ],
      "text/plain": [
       "   제품명 담당자 지역  1분기  2분기  3분기  4분기\n",
       "0   시계   A  가  198  123  120  137\n",
       "1   구두   A  가  273  241  296  217\n",
       "2  핸드백   A  가  385  316  355    0"
      ]
     },
     "execution_count": 90,
     "metadata": {},
     "output_type": "execute_result"
    }
   ],
   "source": [
    "df"
   ]
  },
  {
   "cell_type": "code",
   "execution_count": 100,
   "metadata": {},
   "outputs": [],
   "source": [
    "df.loc[3, '제품명'] = '벨트'\n",
    "df.loc[3, '담당자'] = 'Andy'\n",
    "df.loc[3, '지역'] = '가'\n",
    "df.loc[3, '1분기'] = '100'\n",
    "df.loc[3, '2분기'] = '150'\n",
    "df.loc[3, '3분기'] = '200'\n",
    "df.loc[3, '4분기'] = '250'"
   ]
  },
  {
   "cell_type": "code",
   "execution_count": 101,
   "metadata": {},
   "outputs": [],
   "source": [
    "df['담당자'] = 'Andy'"
   ]
  },
  {
   "cell_type": "code",
   "execution_count": 102,
   "metadata": {},
   "outputs": [
    {
     "data": {
      "text/html": [
       "<div>\n",
       "<style scoped>\n",
       "    .dataframe tbody tr th:only-of-type {\n",
       "        vertical-align: middle;\n",
       "    }\n",
       "\n",
       "    .dataframe tbody tr th {\n",
       "        vertical-align: top;\n",
       "    }\n",
       "\n",
       "    .dataframe thead th {\n",
       "        text-align: right;\n",
       "    }\n",
       "</style>\n",
       "<table border=\"1\" class=\"dataframe\">\n",
       "  <thead>\n",
       "    <tr style=\"text-align: right;\">\n",
       "      <th></th>\n",
       "      <th>제품명</th>\n",
       "      <th>담당자</th>\n",
       "      <th>지역</th>\n",
       "      <th>1분기</th>\n",
       "      <th>2분기</th>\n",
       "      <th>3분기</th>\n",
       "      <th>4분기</th>\n",
       "    </tr>\n",
       "  </thead>\n",
       "  <tbody>\n",
       "    <tr>\n",
       "      <th>0</th>\n",
       "      <td>시계</td>\n",
       "      <td>Andy</td>\n",
       "      <td>가</td>\n",
       "      <td>198</td>\n",
       "      <td>123</td>\n",
       "      <td>120</td>\n",
       "      <td>137</td>\n",
       "    </tr>\n",
       "    <tr>\n",
       "      <th>1</th>\n",
       "      <td>구두</td>\n",
       "      <td>Andy</td>\n",
       "      <td>가</td>\n",
       "      <td>273</td>\n",
       "      <td>241</td>\n",
       "      <td>296</td>\n",
       "      <td>217</td>\n",
       "    </tr>\n",
       "    <tr>\n",
       "      <th>2</th>\n",
       "      <td>핸드백</td>\n",
       "      <td>Andy</td>\n",
       "      <td>가</td>\n",
       "      <td>385</td>\n",
       "      <td>316</td>\n",
       "      <td>355</td>\n",
       "      <td>0</td>\n",
       "    </tr>\n",
       "    <tr>\n",
       "      <th>3</th>\n",
       "      <td>벨트</td>\n",
       "      <td>Andy</td>\n",
       "      <td>가</td>\n",
       "      <td>100</td>\n",
       "      <td>150</td>\n",
       "      <td>200</td>\n",
       "      <td>250</td>\n",
       "    </tr>\n",
       "  </tbody>\n",
       "</table>\n",
       "</div>"
      ],
      "text/plain": [
       "   제품명   담당자 지역  1분기  2분기  3분기  4분기\n",
       "0   시계  Andy  가  198  123  120  137\n",
       "1   구두  Andy  가  273  241  296  217\n",
       "2  핸드백  Andy  가  385  316  355    0\n",
       "3   벨트  Andy  가  100  150  200  250"
      ]
     },
     "execution_count": 102,
     "metadata": {},
     "output_type": "execute_result"
    }
   ],
   "source": [
    "df"
   ]
  },
  {
   "cell_type": "code",
   "execution_count": 108,
   "metadata": {},
   "outputs": [],
   "source": [
    "import re # 정규표현식(=정규식, Regular Expression): 문자열의 패턴이 같은 경우 패턴을 찾아라"
   ]
  },
  {
   "cell_type": "code",
   "execution_count": 109,
   "metadata": {},
   "outputs": [],
   "source": [
    "file_name = \"담당자별_판매량_ Andy사원.xlsx\""
   ]
  },
  {
   "cell_type": "code",
   "execution_count": 115,
   "metadata": {},
   "outputs": [
    {
     "data": {
      "text/plain": [
       "'담당자별_판매량_ Andy사원2.xlsx'"
      ]
     },
     "execution_count": 115,
     "metadata": {},
     "output_type": "execute_result"
    }
   ],
   "source": [
    "re.sub('.xlsx','2.xlsx', file_name) # .xlsx 를 2.xlsx 로 대체할 것."
   ]
  },
  {
   "cell_type": "code",
   "execution_count": 127,
   "metadata": {},
   "outputs": [
    {
     "name": "stdout",
     "output_type": "stream",
     "text": [
      "담당자별_판매량_Andy사원2.xlsx\n",
      "담당자별_판매량_Andy사원22.xlsx\n",
      "담당자별_판매량_Andy사원222.xlsx\n",
      "담당자별_판매량_Becky사원2.xlsx\n",
      "담당자별_판매량_Becky사원22.xlsx\n",
      "담당자별_판매량_Becky사원222.xlsx\n",
      "담당자별_판매량_Chris사원2.xlsx\n",
      "담당자별_판매량_Chris사원22.xlsx\n",
      "담당자별_판매량_Chris사원222.xlsx\n",
      "담당자별통합2.xlsx\n",
      "담당자별통합22.xlsx\n",
      "담당자별통합222.xlsx\n"
     ]
    }
   ],
   "source": [
    "import glob\n",
    "ex_File = glob.glob('담당자별*.xlsx') # *은 파일명에서 공통된 부분\n",
    "df_tot = pd.DataFrame([])\n",
    "for f in ex_File:\n",
    "    df = pd.read_excel(f)\n",
    "    if (df.loc[1,'담당자']=='A'):\n",
    "        df['담당자']='Andy' # 담당자가 A이면 Andy로 바꿔라\n",
    "    elif (df.loc[1,'담당자']=='B'):\n",
    "        df['담당자']='Becky' \n",
    "    elif (df.loc[1,'담당자']=='C'):\n",
    "        df['담당자']='Chris'\n",
    "    \n",
    "    f_new = re.sub('.xlsx', '2.xlsx', f)\n",
    "    print(f_new)\n",
    "    n_ex = pd.ExcelWriter(f_new, engine = 'xlsxwriter')\n",
    "    df.to_excel(n_ex, index = False)\n",
    "    n_ex.save()    \n"
   ]
  },
  {
   "cell_type": "code",
   "execution_count": 130,
   "metadata": {},
   "outputs": [
    {
     "data": {
      "text/html": [
       "<div>\n",
       "<style scoped>\n",
       "    .dataframe tbody tr th:only-of-type {\n",
       "        vertical-align: middle;\n",
       "    }\n",
       "\n",
       "    .dataframe tbody tr th {\n",
       "        vertical-align: top;\n",
       "    }\n",
       "\n",
       "    .dataframe thead th {\n",
       "        text-align: right;\n",
       "    }\n",
       "</style>\n",
       "<table border=\"1\" class=\"dataframe\">\n",
       "  <thead>\n",
       "    <tr style=\"text-align: right;\">\n",
       "      <th></th>\n",
       "      <th>제품명</th>\n",
       "      <th>담당자</th>\n",
       "      <th>지역</th>\n",
       "      <th>1분기</th>\n",
       "      <th>2분기</th>\n",
       "      <th>3분기</th>\n",
       "      <th>4분기</th>\n",
       "    </tr>\n",
       "  </thead>\n",
       "  <tbody>\n",
       "    <tr>\n",
       "      <th>0</th>\n",
       "      <td>시계</td>\n",
       "      <td>A</td>\n",
       "      <td>가</td>\n",
       "      <td>198</td>\n",
       "      <td>123</td>\n",
       "      <td>120</td>\n",
       "      <td>137</td>\n",
       "    </tr>\n",
       "    <tr>\n",
       "      <th>1</th>\n",
       "      <td>구두</td>\n",
       "      <td>A</td>\n",
       "      <td>가</td>\n",
       "      <td>273</td>\n",
       "      <td>241</td>\n",
       "      <td>296</td>\n",
       "      <td>217</td>\n",
       "    </tr>\n",
       "    <tr>\n",
       "      <th>2</th>\n",
       "      <td>핸드백</td>\n",
       "      <td>A</td>\n",
       "      <td>가</td>\n",
       "      <td>385</td>\n",
       "      <td>316</td>\n",
       "      <td>355</td>\n",
       "      <td>331</td>\n",
       "    </tr>\n",
       "    <tr>\n",
       "      <th>3</th>\n",
       "      <td>시계</td>\n",
       "      <td>B</td>\n",
       "      <td>나</td>\n",
       "      <td>154</td>\n",
       "      <td>108</td>\n",
       "      <td>155</td>\n",
       "      <td>114</td>\n",
       "    </tr>\n",
       "    <tr>\n",
       "      <th>4</th>\n",
       "      <td>구두</td>\n",
       "      <td>B</td>\n",
       "      <td>나</td>\n",
       "      <td>200</td>\n",
       "      <td>223</td>\n",
       "      <td>213</td>\n",
       "      <td>202</td>\n",
       "    </tr>\n",
       "    <tr>\n",
       "      <th>5</th>\n",
       "      <td>핸드백</td>\n",
       "      <td>B</td>\n",
       "      <td>나</td>\n",
       "      <td>350</td>\n",
       "      <td>340</td>\n",
       "      <td>377</td>\n",
       "      <td>392</td>\n",
       "    </tr>\n",
       "    <tr>\n",
       "      <th>6</th>\n",
       "      <td>시계</td>\n",
       "      <td>C</td>\n",
       "      <td>다</td>\n",
       "      <td>168</td>\n",
       "      <td>102</td>\n",
       "      <td>149</td>\n",
       "      <td>174</td>\n",
       "    </tr>\n",
       "    <tr>\n",
       "      <th>7</th>\n",
       "      <td>구두</td>\n",
       "      <td>C</td>\n",
       "      <td>다</td>\n",
       "      <td>231</td>\n",
       "      <td>279</td>\n",
       "      <td>277</td>\n",
       "      <td>292</td>\n",
       "    </tr>\n",
       "    <tr>\n",
       "      <th>8</th>\n",
       "      <td>핸드백</td>\n",
       "      <td>C</td>\n",
       "      <td>다</td>\n",
       "      <td>365</td>\n",
       "      <td>383</td>\n",
       "      <td>308</td>\n",
       "      <td>323</td>\n",
       "    </tr>\n",
       "    <tr>\n",
       "      <th>9</th>\n",
       "      <td>시계</td>\n",
       "      <td>A</td>\n",
       "      <td>가</td>\n",
       "      <td>198</td>\n",
       "      <td>123</td>\n",
       "      <td>120</td>\n",
       "      <td>137</td>\n",
       "    </tr>\n",
       "    <tr>\n",
       "      <th>10</th>\n",
       "      <td>구두</td>\n",
       "      <td>A</td>\n",
       "      <td>가</td>\n",
       "      <td>273</td>\n",
       "      <td>241</td>\n",
       "      <td>296</td>\n",
       "      <td>217</td>\n",
       "    </tr>\n",
       "    <tr>\n",
       "      <th>11</th>\n",
       "      <td>핸드백</td>\n",
       "      <td>A</td>\n",
       "      <td>가</td>\n",
       "      <td>385</td>\n",
       "      <td>316</td>\n",
       "      <td>355</td>\n",
       "      <td>331</td>\n",
       "    </tr>\n",
       "    <tr>\n",
       "      <th>12</th>\n",
       "      <td>시계</td>\n",
       "      <td>B</td>\n",
       "      <td>나</td>\n",
       "      <td>154</td>\n",
       "      <td>108</td>\n",
       "      <td>155</td>\n",
       "      <td>114</td>\n",
       "    </tr>\n",
       "    <tr>\n",
       "      <th>13</th>\n",
       "      <td>구두</td>\n",
       "      <td>B</td>\n",
       "      <td>나</td>\n",
       "      <td>200</td>\n",
       "      <td>223</td>\n",
       "      <td>213</td>\n",
       "      <td>202</td>\n",
       "    </tr>\n",
       "    <tr>\n",
       "      <th>14</th>\n",
       "      <td>핸드백</td>\n",
       "      <td>B</td>\n",
       "      <td>나</td>\n",
       "      <td>350</td>\n",
       "      <td>340</td>\n",
       "      <td>377</td>\n",
       "      <td>392</td>\n",
       "    </tr>\n",
       "    <tr>\n",
       "      <th>15</th>\n",
       "      <td>시계</td>\n",
       "      <td>C</td>\n",
       "      <td>다</td>\n",
       "      <td>168</td>\n",
       "      <td>102</td>\n",
       "      <td>149</td>\n",
       "      <td>174</td>\n",
       "    </tr>\n",
       "    <tr>\n",
       "      <th>16</th>\n",
       "      <td>구두</td>\n",
       "      <td>C</td>\n",
       "      <td>다</td>\n",
       "      <td>231</td>\n",
       "      <td>279</td>\n",
       "      <td>277</td>\n",
       "      <td>292</td>\n",
       "    </tr>\n",
       "    <tr>\n",
       "      <th>17</th>\n",
       "      <td>핸드백</td>\n",
       "      <td>C</td>\n",
       "      <td>다</td>\n",
       "      <td>365</td>\n",
       "      <td>383</td>\n",
       "      <td>308</td>\n",
       "      <td>323</td>\n",
       "    </tr>\n",
       "  </tbody>\n",
       "</table>\n",
       "</div>"
      ],
      "text/plain": [
       "    제품명 담당자 지역  1분기  2분기  3분기  4분기\n",
       "0    시계   A  가  198  123  120  137\n",
       "1    구두   A  가  273  241  296  217\n",
       "2   핸드백   A  가  385  316  355  331\n",
       "3    시계   B  나  154  108  155  114\n",
       "4    구두   B  나  200  223  213  202\n",
       "5   핸드백   B  나  350  340  377  392\n",
       "6    시계   C  다  168  102  149  174\n",
       "7    구두   C  다  231  279  277  292\n",
       "8   핸드백   C  다  365  383  308  323\n",
       "9    시계   A  가  198  123  120  137\n",
       "10   구두   A  가  273  241  296  217\n",
       "11  핸드백   A  가  385  316  355  331\n",
       "12   시계   B  나  154  108  155  114\n",
       "13   구두   B  나  200  223  213  202\n",
       "14  핸드백   B  나  350  340  377  392\n",
       "15   시계   C  다  168  102  149  174\n",
       "16   구두   C  다  231  279  277  292\n",
       "17  핸드백   C  다  365  383  308  323"
      ]
     },
     "execution_count": 130,
     "metadata": {},
     "output_type": "execute_result"
    }
   ],
   "source": [
    "import pandas as pd\n",
    "\n",
    "df = pd.read_excel('담당자별통합.xlsx')\n",
    "df"
   ]
  },
  {
   "cell_type": "code",
   "execution_count": 131,
   "metadata": {},
   "outputs": [
    {
     "data": {
      "text/html": [
       "<div>\n",
       "<style scoped>\n",
       "    .dataframe tbody tr th:only-of-type {\n",
       "        vertical-align: middle;\n",
       "    }\n",
       "\n",
       "    .dataframe tbody tr th {\n",
       "        vertical-align: top;\n",
       "    }\n",
       "\n",
       "    .dataframe thead th {\n",
       "        text-align: right;\n",
       "    }\n",
       "</style>\n",
       "<table border=\"1\" class=\"dataframe\">\n",
       "  <thead>\n",
       "    <tr style=\"text-align: right;\">\n",
       "      <th></th>\n",
       "      <th>제품명</th>\n",
       "      <th>담당자</th>\n",
       "      <th>지역</th>\n",
       "      <th>1분기</th>\n",
       "      <th>2분기</th>\n",
       "      <th>3분기</th>\n",
       "      <th>4분기</th>\n",
       "    </tr>\n",
       "  </thead>\n",
       "  <tbody>\n",
       "    <tr>\n",
       "      <th>1</th>\n",
       "      <td>구두</td>\n",
       "      <td>A</td>\n",
       "      <td>가</td>\n",
       "      <td>273</td>\n",
       "      <td>241</td>\n",
       "      <td>296</td>\n",
       "      <td>217</td>\n",
       "    </tr>\n",
       "    <tr>\n",
       "      <th>2</th>\n",
       "      <td>핸드백</td>\n",
       "      <td>A</td>\n",
       "      <td>가</td>\n",
       "      <td>385</td>\n",
       "      <td>316</td>\n",
       "      <td>355</td>\n",
       "      <td>331</td>\n",
       "    </tr>\n",
       "    <tr>\n",
       "      <th>5</th>\n",
       "      <td>핸드백</td>\n",
       "      <td>B</td>\n",
       "      <td>나</td>\n",
       "      <td>350</td>\n",
       "      <td>340</td>\n",
       "      <td>377</td>\n",
       "      <td>392</td>\n",
       "    </tr>\n",
       "    <tr>\n",
       "      <th>7</th>\n",
       "      <td>구두</td>\n",
       "      <td>C</td>\n",
       "      <td>다</td>\n",
       "      <td>231</td>\n",
       "      <td>279</td>\n",
       "      <td>277</td>\n",
       "      <td>292</td>\n",
       "    </tr>\n",
       "    <tr>\n",
       "      <th>8</th>\n",
       "      <td>핸드백</td>\n",
       "      <td>C</td>\n",
       "      <td>다</td>\n",
       "      <td>365</td>\n",
       "      <td>383</td>\n",
       "      <td>308</td>\n",
       "      <td>323</td>\n",
       "    </tr>\n",
       "    <tr>\n",
       "      <th>10</th>\n",
       "      <td>구두</td>\n",
       "      <td>A</td>\n",
       "      <td>가</td>\n",
       "      <td>273</td>\n",
       "      <td>241</td>\n",
       "      <td>296</td>\n",
       "      <td>217</td>\n",
       "    </tr>\n",
       "    <tr>\n",
       "      <th>11</th>\n",
       "      <td>핸드백</td>\n",
       "      <td>A</td>\n",
       "      <td>가</td>\n",
       "      <td>385</td>\n",
       "      <td>316</td>\n",
       "      <td>355</td>\n",
       "      <td>331</td>\n",
       "    </tr>\n",
       "    <tr>\n",
       "      <th>14</th>\n",
       "      <td>핸드백</td>\n",
       "      <td>B</td>\n",
       "      <td>나</td>\n",
       "      <td>350</td>\n",
       "      <td>340</td>\n",
       "      <td>377</td>\n",
       "      <td>392</td>\n",
       "    </tr>\n",
       "    <tr>\n",
       "      <th>16</th>\n",
       "      <td>구두</td>\n",
       "      <td>C</td>\n",
       "      <td>다</td>\n",
       "      <td>231</td>\n",
       "      <td>279</td>\n",
       "      <td>277</td>\n",
       "      <td>292</td>\n",
       "    </tr>\n",
       "    <tr>\n",
       "      <th>17</th>\n",
       "      <td>핸드백</td>\n",
       "      <td>C</td>\n",
       "      <td>다</td>\n",
       "      <td>365</td>\n",
       "      <td>383</td>\n",
       "      <td>308</td>\n",
       "      <td>323</td>\n",
       "    </tr>\n",
       "  </tbody>\n",
       "</table>\n",
       "</div>"
      ],
      "text/plain": [
       "    제품명 담당자 지역  1분기  2분기  3분기  4분기\n",
       "1    구두   A  가  273  241  296  217\n",
       "2   핸드백   A  가  385  316  355  331\n",
       "5   핸드백   B  나  350  340  377  392\n",
       "7    구두   C  다  231  279  277  292\n",
       "8   핸드백   C  다  365  383  308  323\n",
       "10   구두   A  가  273  241  296  217\n",
       "11  핸드백   A  가  385  316  355  331\n",
       "14  핸드백   B  나  350  340  377  392\n",
       "16   구두   C  다  231  279  277  292\n",
       "17  핸드백   C  다  365  383  308  323"
      ]
     },
     "execution_count": 131,
     "metadata": {},
     "output_type": "execute_result"
    }
   ],
   "source": [
    "df[df['3분기']>=250]"
   ]
  },
  {
   "cell_type": "code",
   "execution_count": 134,
   "metadata": {},
   "outputs": [],
   "source": [
    "#df.iloc[ ;, [0,3,4,5,6]]"
   ]
  },
  {
   "cell_type": "code",
   "execution_count": 136,
   "metadata": {},
   "outputs": [
    {
     "data": {
      "text/html": [
       "<div>\n",
       "<style scoped>\n",
       "    .dataframe tbody tr th:only-of-type {\n",
       "        vertical-align: middle;\n",
       "    }\n",
       "\n",
       "    .dataframe tbody tr th {\n",
       "        vertical-align: top;\n",
       "    }\n",
       "\n",
       "    .dataframe thead th {\n",
       "        text-align: right;\n",
       "    }\n",
       "</style>\n",
       "<table border=\"1\" class=\"dataframe\">\n",
       "  <thead>\n",
       "    <tr style=\"text-align: right;\">\n",
       "      <th></th>\n",
       "      <th>제품명</th>\n",
       "      <th>담당자</th>\n",
       "      <th>지역</th>\n",
       "      <th>1분기</th>\n",
       "      <th>2분기</th>\n",
       "      <th>3분기</th>\n",
       "      <th>4분기</th>\n",
       "    </tr>\n",
       "  </thead>\n",
       "  <tbody>\n",
       "    <tr>\n",
       "      <th>0</th>\n",
       "      <td>시계</td>\n",
       "      <td>A</td>\n",
       "      <td>가</td>\n",
       "      <td>198</td>\n",
       "      <td>123</td>\n",
       "      <td>120</td>\n",
       "      <td>137</td>\n",
       "    </tr>\n",
       "    <tr>\n",
       "      <th>2</th>\n",
       "      <td>핸드백</td>\n",
       "      <td>A</td>\n",
       "      <td>가</td>\n",
       "      <td>385</td>\n",
       "      <td>316</td>\n",
       "      <td>355</td>\n",
       "      <td>331</td>\n",
       "    </tr>\n",
       "  </tbody>\n",
       "</table>\n",
       "</div>"
      ],
      "text/plain": [
       "   제품명 담당자 지역  1분기  2분기  3분기  4분기\n",
       "0   시계   A  가  198  123  120  137\n",
       "2  핸드백   A  가  385  316  355  331"
      ]
     },
     "execution_count": 136,
     "metadata": {},
     "output_type": "execute_result"
    }
   ],
   "source": [
    "df.iloc[ [0,2],: ]"
   ]
  },
  {
   "cell_type": "code",
   "execution_count": 137,
   "metadata": {},
   "outputs": [],
   "source": [
    "handbag = df[df['제품명'] == '핸드백']"
   ]
  },
  {
   "cell_type": "code",
   "execution_count": 138,
   "metadata": {},
   "outputs": [],
   "source": [
    "hand2 = handbag[['1분기','2분기','3분기','4분기']]"
   ]
  },
  {
   "cell_type": "code",
   "execution_count": 139,
   "metadata": {},
   "outputs": [
    {
     "data": {
      "text/plain": [
       "1분기    2200\n",
       "2분기    2078\n",
       "3분기    2080\n",
       "4분기    2092\n",
       "dtype: int64"
      ]
     },
     "execution_count": 139,
     "metadata": {},
     "output_type": "execute_result"
    }
   ],
   "source": [
    "hand2.sum() #분기별 합계"
   ]
  }
 ],
 "metadata": {
  "kernelspec": {
   "display_name": "Python 3",
   "language": "python",
   "name": "python3"
  },
  "language_info": {
   "codemirror_mode": {
    "name": "ipython",
    "version": 3
   },
   "file_extension": ".py",
   "mimetype": "text/x-python",
   "name": "python",
   "nbconvert_exporter": "python",
   "pygments_lexer": "ipython3",
   "version": "3.7.3"
  }
 },
 "nbformat": 4,
 "nbformat_minor": 2
}
